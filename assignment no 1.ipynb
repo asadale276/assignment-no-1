{
 "cells": [
  {
   "cell_type": "code",
   "execution_count": 7,
   "metadata": {},
   "outputs": [
    {
     "name": "stdout",
     "output_type": "stream",
     "text": [
      "Assignment no 1\n",
      "\n",
      "Initial Bio Data\n",
      "\n",
      "My name is Asad Ali and i am from karachi.\n",
      "My age is 19 .\n",
      "I study in Usman Institue of Technology and so far doing Software Engineering.\n",
      "My favorite Dish is Biryani and favorite place is Islaamabad\n"
     ]
    }
   ],
   "source": [
    "print(\"Assignment no 1\\n\\nInitial Bio Data\\n\")\n",
    "name='Asad Ali'\n",
    "city='karachi'\n",
    "age='19'\n",
    "uni='Usman Institue of Technology'\n",
    "field='Software Engineering'\n",
    "favdsh='Biryani'\n",
    "favplace='Islaamabad'\n",
    "print(f\"My name is {name} and i am from {city}.\\nMy age is {age} .\\nI study in {uni} and so far doing {field}.\\nMy favorite Dish is {favdsh} and favorite place is {favplace}\")"
   ]
  },
  {
   "cell_type": "code",
   "execution_count": null,
   "metadata": {},
   "outputs": [],
   "source": []
  }
 ],
 "metadata": {
  "kernelspec": {
   "display_name": "Python 3",
   "language": "python",
   "name": "python3"
  },
  "language_info": {
   "codemirror_mode": {
    "name": "ipython",
    "version": 3
   },
   "file_extension": ".py",
   "mimetype": "text/x-python",
   "name": "python",
   "nbconvert_exporter": "python",
   "pygments_lexer": "ipython3",
   "version": "3.7.4"
  }
 },
 "nbformat": 4,
 "nbformat_minor": 2
}
